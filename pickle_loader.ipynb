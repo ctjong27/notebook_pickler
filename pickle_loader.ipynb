{
 "cells": [
  {
   "cell_type": "code",
   "execution_count": 14,
   "metadata": {},
   "outputs": [
    {
     "name": "stdout",
     "output_type": "stream",
     "text": [
      "D:\\dev\\misc_tools_dev\\TransCAD_bin_to_df_converter\\input\\Amarillo Streets.bin\n",
      "D:\\dev\\misc_tools_dev\\notebook_pickler/Amarillo Streets.csv\n"
     ]
    }
   ],
   "source": [
    "import os\n",
    "import cloudpickle\n",
    "import importlib.util\n",
    "import argparse\n",
    "import sys\n",
    "\n",
    "# Load the .pkl file using cloudpickle\n",
    "vr_file_path = './cloudpickle_objects/bin2df_convert.cdpkl'\n",
    "with open(vr_file_path, 'rb') as f:\n",
    "    cdpkl_data = cloudpickle.load(f)\n",
    "\n",
    "# Access the converter function\n",
    "convert = cdpkl_data['converter_function']\n",
    "\n",
    "filepath = 'D:\\\\dev\\\\misc_tools_dev\\\\TransCAD_bin_to_df_converter\\\\input\\\\Amarillo Streets.bin'\n",
    "output_directory = r'D:\\dev\\misc_tools_dev\\notebook_pickler\\data'\n",
    "\n",
    "convert(furl=filepath, fout=output_directory)"
   ]
  }
 ],
 "metadata": {
  "kernelspec": {
   "display_name": "tdm23_env_1",
   "language": "python",
   "name": "python3"
  },
  "language_info": {
   "codemirror_mode": {
    "name": "ipython",
    "version": 3
   },
   "file_extension": ".py",
   "mimetype": "text/x-python",
   "name": "python",
   "nbconvert_exporter": "python",
   "pygments_lexer": "ipython3",
   "version": "3.8.12"
  }
 },
 "nbformat": 4,
 "nbformat_minor": 2
}
