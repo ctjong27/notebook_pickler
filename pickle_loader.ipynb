{
 "cells": [
  {
   "cell_type": "markdown",
   "metadata": {},
   "source": [
    "# Loading cloudpickle with one function"
   ]
  },
  {
   "cell_type": "code",
   "execution_count": 1,
   "metadata": {},
   "outputs": [
    {
     "name": "stdout",
     "output_type": "stream",
     "text": [
      "D:\\dev\\misc_tools_dev\\TransCAD_bin_to_df_converter\\input\\Amarillo Streets.bin\n",
      "D:\\dev\\misc_tools_dev\\notebook_pickler\\data/Amarillo Streets.csv\n"
     ]
    }
   ],
   "source": [
    "import cloudpickle\n",
    "import importlib.util\n",
    "import sys\n",
    "import os\n",
    "\n",
    "# Function to dynamically import a module\n",
    "def import_module_from_path(module_name, module_path):\n",
    "    spec = importlib.util.spec_from_file_location(module_name, module_path)\n",
    "    module = importlib.util.module_from_spec(spec)\n",
    "    sys.modules[module_name] = module\n",
    "    spec.loader.exec_module(module)\n",
    "    return module\n",
    "\n",
    "# Path to the directory containing bin2df module\n",
    "module_dir = r\"D:\\dev\\misc_tools_dev\\TransCAD_bin_to_df_converter\"\n",
    "if module_dir not in sys.path:\n",
    "    sys.path.append(module_dir)\n",
    "\n",
    "# Path to the bin2df module\n",
    "module_path = os.path.join(module_dir, 'bin2df.py')\n",
    "\n",
    "# Ensure the module is imported before unpickling\n",
    "bin2df = import_module_from_path(\"bin2df\", module_path)\n",
    "\n",
    "# Load the .pkl file using cloudpickle\n",
    "vr_file_path = './cloudpickle_objects/bin2df_convert.cdpkl'\n",
    "with open(vr_file_path, 'rb') as f:\n",
    "    cdpkl_data = cloudpickle.load(f)\n",
    "\n",
    "# Access the converter function\n",
    "convert = cdpkl_data['converter_function']\n",
    "\n",
    "filepath = 'D:\\\\dev\\\\misc_tools_dev\\\\TransCAD_bin_to_df_converter\\\\input\\\\Amarillo Streets.bin'\n",
    "output_directory = r'D:\\dev\\misc_tools_dev\\notebook_pickler\\data'\n",
    "\n",
    "convert(furl=filepath, fout=output_directory)\n"
   ]
  },
  {
   "cell_type": "markdown",
   "metadata": {},
   "source": [
    "# Loading pickle with entire module with multiple functions"
   ]
  },
  {
   "cell_type": "code",
   "execution_count": 2,
   "metadata": {},
   "outputs": [
    {
     "name": "stdout",
     "output_type": "stream",
     "text": [
      "D:\\dev\\misc_tools_dev\\TransCAD_bin_to_df_converter\\input\\Amarillo Streets.bin\n",
      "D:\\dev\\misc_tools_dev\\notebook_pickler\\data/Amarillo Streets.csv\n"
     ]
    }
   ],
   "source": [
    "import cloudpickle\n",
    "import importlib.util\n",
    "import sys\n",
    "import os\n",
    "\n",
    "# Function to dynamically import a module\n",
    "def import_module_from_path(module_name, module_path):\n",
    "    spec = importlib.util.spec_from_file_location(module_name, module_path)\n",
    "    module = importlib.util.module_from_spec(spec)\n",
    "    sys.modules[module_name] = module\n",
    "    spec.loader.exec_module(module)\n",
    "    return module\n",
    "\n",
    "# Path to the directory containing bin2df module\n",
    "module_dir = r\"D:\\dev\\misc_tools_dev\\TransCAD_bin_to_df_converter\"\n",
    "if module_dir not in sys.path:\n",
    "    sys.path.append(module_dir)\n",
    "\n",
    "# Path to the bin2df module\n",
    "module_path = os.path.join(module_dir, 'bin2df.py')\n",
    "\n",
    "# Ensure the module is imported before unpickling\n",
    "import_module_from_path(\"bin2df\", module_path)\n",
    "\n",
    "# Load the .pkl file using cloudpickle\n",
    "vr_file_path = './cloudpickle_objects/bin2df_module.cdpkl'\n",
    "with open(vr_file_path, 'rb') as f:\n",
    "    bin2df = cloudpickle.load(f)\n",
    "\n",
    "# Use the functions from the unpickled module\n",
    "filepath = 'D:\\\\dev\\\\misc_tools_dev\\\\TransCAD_bin_to_df_converter\\\\input\\\\Amarillo Streets.bin'\n",
    "output_directory = r'D:\\dev\\misc_tools_dev\\notebook_pickler\\data'\n",
    "\n",
    "bin2df.convert(furl=filepath, fout=output_directory)\n"
   ]
  }
 ],
 "metadata": {
  "kernelspec": {
   "display_name": "tdm23_env_1",
   "language": "python",
   "name": "python3"
  },
  "language_info": {
   "codemirror_mode": {
    "name": "ipython",
    "version": 3
   },
   "file_extension": ".py",
   "mimetype": "text/x-python",
   "name": "python",
   "nbconvert_exporter": "python",
   "pygments_lexer": "ipython3",
   "version": "3.8.12"
  }
 },
 "nbformat": 4,
 "nbformat_minor": 2
}
