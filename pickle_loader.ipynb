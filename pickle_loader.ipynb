{
 "cells": [
  {
   "cell_type": "code",
   "execution_count": 2,
   "metadata": {},
   "outputs": [
    {
     "name": "stdout",
     "output_type": "stream",
     "text": [
      "D:\\dev\\misc_tools_dev\\TransCAD_bin_to_df_converter\\input\\Amarillo Streets.bin\n",
      "D:\\dev\\misc_tools_dev\\notebook_pickler\\data/Amarillo Streets.csv\n"
     ]
    }
   ],
   "source": [
    "import cloudpickle\n",
    "import os\n",
    "\n",
    "# Load the .cdpkl file using cloudpickle\n",
    "vr_file_path = './cloudpickle_objects/bin2df_convert_by_value.cdpkl'\n",
    "with open(vr_file_path, 'rb') as f:\n",
    "    bin2df = cloudpickle.load(f)\n",
    "\n",
    "# Use the function from the unpickled object\n",
    "filepath = 'D:\\\\dev\\\\misc_tools_dev\\\\TransCAD_bin_to_df_converter\\\\input\\\\Amarillo Streets.bin'\n",
    "output_directory = r'D:\\dev\\misc_tools_dev\\notebook_pickler\\data'\n",
    "\n",
    "# Call the convert function\n",
    "bin2df.convert(furl=filepath, fout=output_directory)\n"
   ]
  },
  {
   "cell_type": "code",
   "execution_count": 4,
   "metadata": {},
   "outputs": [
    {
     "name": "stdout",
     "output_type": "stream",
     "text": [
      "D:\\dev\\misc_tools_dev\\TransCAD_bin_to_df_converter\\input\\Amarillo Streets.bin\n",
      "D:\\dev\\misc_tools_dev\\notebook_pickler\\data/Amarillo Streets.csv\n"
     ]
    }
   ],
   "source": [
    "import cloudpickle\n",
    "import os\n",
    "\n",
    "# Load the .cdpkl file using cloudpickle\n",
    "vr_file_path = './cloudpickle_objects/bin2df_convert_by_value2.cdpkl'\n",
    "with open(vr_file_path, 'rb') as f:\n",
    "    bin2df = cloudpickle.load(f)\n",
    "\n",
    "# Use the function from the unpickled object\n",
    "filepath = 'D:\\\\dev\\\\misc_tools_dev\\\\TransCAD_bin_to_df_converter\\\\input\\\\Amarillo Streets.bin'\n",
    "output_directory = r'D:\\dev\\misc_tools_dev\\notebook_pickler\\data'\n",
    "\n",
    "# Call the convert function\n",
    "bin2df.convert(furl=filepath, fout=output_directory)\n"
   ]
  }
 ],
 "metadata": {
  "kernelspec": {
   "display_name": "tdm23_env_1",
   "language": "python",
   "name": "python3"
  },
  "language_info": {
   "codemirror_mode": {
    "name": "ipython",
    "version": 3
   },
   "file_extension": ".py",
   "mimetype": "text/x-python",
   "name": "python",
   "nbconvert_exporter": "python",
   "pygments_lexer": "ipython3",
   "version": "3.8.12"
  }
 },
 "nbformat": 4,
 "nbformat_minor": 2
}
