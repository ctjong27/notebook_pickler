{
 "cells": [
  {
   "cell_type": "code",
   "execution_count": 7,
   "metadata": {},
   "outputs": [
    {
     "name": "stdout",
     "output_type": "stream",
     "text": [
      "Data has been pickled and saved to bin2df_convert.cdpkl\n"
     ]
    }
   ],
   "source": [
    "import cloudpickle\n",
    "import importlib.util\n",
    "import sys\n",
    "import os\n",
    "\n",
    "# Path to the directory containing bin2df and transcad modules\n",
    "module_dir = r\"D:\\dev\\misc_tools_dev\\TransCAD_bin_to_df_converter\"\n",
    "\n",
    "# Add the module directory to sys.path\n",
    "if module_dir not in sys.path:\n",
    "    sys.path.append(module_dir)\n",
    "\n",
    "# Path to the bin2df module\n",
    "module_path = os.path.join(module_dir, 'bin2df.py')\n",
    "\n",
    "# Dynamically import the module\n",
    "spec = importlib.util.spec_from_file_location(\"bin2df\", module_path)\n",
    "bin2df = importlib.util.module_from_spec(spec)\n",
    "sys.modules[\"bin2df\"] = bin2df\n",
    "spec.loader.exec_module(bin2df)\n",
    "\n",
    "# Cloudpickle Name\n",
    "serialized_file_name = 'bin2df_convert.cdpkl'\n",
    "\n",
    "# Define the data you want to save\n",
    "data = {\n",
    "    # Data or state information of imported class\n",
    "    'converter_function': bin2df.convert,\n",
    "}\n",
    "\n",
    "# Create the directory for pickled notebooks if it doesn't exist\n",
    "os.makedirs('./cloudpickle_objects', exist_ok=True)\n",
    "\n",
    "# Save the data to a .pkl file using cloudpickle\n",
    "with open(f'./cloudpickle_objects/{serialized_file_name}', 'wb') as f:\n",
    "    cloudpickle.dump(data, f)\n",
    "\n",
    "print(f\"Data has been pickled and saved to {serialized_file_name}\")\n"
   ]
  }
 ],
 "metadata": {
  "kernelspec": {
   "display_name": "tdm23_env_1",
   "language": "python",
   "name": "python3"
  },
  "language_info": {
   "codemirror_mode": {
    "name": "ipython",
    "version": 3
   },
   "file_extension": ".py",
   "mimetype": "text/x-python",
   "name": "python",
   "nbconvert_exporter": "python",
   "pygments_lexer": "ipython3",
   "version": "3.8.12"
  }
 },
 "nbformat": 4,
 "nbformat_minor": 2
}
