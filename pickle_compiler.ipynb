{
 "cells": [
  {
   "cell_type": "code",
   "execution_count": 1,
   "metadata": {},
   "outputs": [
    {
     "name": "stdout",
     "output_type": "stream",
     "text": [
      "Module has been pickled and saved to bin2df_convert_by_value.cdpkl by value\n"
     ]
    }
   ],
   "source": [
    "import cloudpickle\n",
    "import importlib.util\n",
    "import sys\n",
    "import os\n",
    "\n",
    "# Function to dynamically import a module or package\n",
    "def import_module_from_path(module_name, module_path):\n",
    "    spec = importlib.util.spec_from_file_location(module_name, module_path)\n",
    "    module = importlib.util.module_from_spec(spec)\n",
    "    sys.modules[module_name] = module\n",
    "    spec.loader.exec_module(module)\n",
    "    return module\n",
    "\n",
    "# Path to the directory containing bin2df module\n",
    "module_dir = r\"D:\\dev\\misc_tools_dev\\TransCAD_bin_to_df_converter\"\n",
    "bin2df_name = \"bin2df\"\n",
    "bin2df_path = os.path.join(module_dir, f\"{bin2df_name}.py\")\n",
    "\n",
    "# Import the transcad package dynamically\n",
    "transcad_name = \"transcad\"\n",
    "transcad_path = os.path.join(module_dir, transcad_name)\n",
    "sys.path.append(module_dir)  # Add the module_dir to sys.path to find the package\n",
    "\n",
    "# Import the bin2df module dynamically\n",
    "bin2df = import_module_from_path(bin2df_name, bin2df_path)\n",
    "transcad = importlib.import_module(transcad_name)\n",
    "\n",
    "# Cloudpickle file name\n",
    "serialized_file_name = 'bin2df_convert_by_value.cdpkl'\n",
    "\n",
    "# Create the directory for pickled objects if it doesn't exist\n",
    "os.makedirs('./cloudpickle_objects', exist_ok=True)\n",
    "\n",
    "# Register the module by value\n",
    "cloudpickle.register_pickle_by_value(bin2df)\n",
    "cloudpickle.register_pickle_by_value(transcad)\n",
    "\n",
    "# Save the entire module by value to a .cdpkl file using cloudpickle\n",
    "with open(f'./cloudpickle_objects/{serialized_file_name}', 'wb') as f:\n",
    "    # cloudpickle.dump(bin2df.convert, f)\n",
    "    cloudpickle.dump(bin2df, f)\n",
    "\n",
    "print(f\"Module has been pickled and saved to {serialized_file_name} by value\")\n"
   ]
  },
  {
   "cell_type": "code",
   "execution_count": 2,
   "metadata": {},
   "outputs": [
    {
     "name": "stdout",
     "output_type": "stream",
     "text": [
      "Module has been pickled and saved to bin2df_convert_by_value2.cdpkl by value\n"
     ]
    }
   ],
   "source": [
    "# Verion 2\n",
    "import cloudpickle\n",
    "import importlib.util\n",
    "import sys\n",
    "import os\n",
    "\n",
    "# Function to dynamically import a module or package\n",
    "def import_module_from_path(module_name, module_path):\n",
    "    spec = importlib.util.spec_from_file_location(module_name, module_path)\n",
    "    module = importlib.util.module_from_spec(spec)\n",
    "    sys.modules[module_name] = module\n",
    "    spec.loader.exec_module(module)\n",
    "    return module\n",
    "\n",
    "# Function to dynamically import a package\n",
    "def import_package_from_path(package_name, package_path):\n",
    "    spec = importlib.util.spec_from_file_location(package_name, os.path.join(package_path, '__init__.py'))\n",
    "    package = importlib.util.module_from_spec(spec)\n",
    "    sys.modules[package_name] = package\n",
    "    spec.loader.exec_module(package)\n",
    "    return package\n",
    "\n",
    "# Path to the directory containing bin2df module\n",
    "module_dir = r\"D:\\dev\\misc_tools_dev\\TransCAD_bin_to_df_converter\"\n",
    "bin2df_name = \"bin2df\"\n",
    "bin2df_path = os.path.join(module_dir, f\"{bin2df_name}.py\")\n",
    "\n",
    "# Import the transcad package dynamically\n",
    "transcad_name = \"transcad\"\n",
    "transcad_path = os.path.join(module_dir, transcad_name)\n",
    "sys.path.append(module_dir)  # Add the module_dir to sys.path to find the package\n",
    "\n",
    "# Import the bin2df module dynamically\n",
    "bin2df = import_module_from_path(bin2df_name, bin2df_path)\n",
    "transcad = import_package_from_path(transcad_name, transcad_path)\n",
    "\n",
    "# Cloudpickle file name\n",
    "serialized_file_name = 'bin2df_convert_by_value2.cdpkl'\n",
    "\n",
    "# Create the directory for pickled objects if it doesn't exist\n",
    "os.makedirs('./cloudpickle_objects', exist_ok=True)\n",
    "\n",
    "# Save the entire module by value to a .cdpkl file using cloudpickle\n",
    "with open(f'./cloudpickle_objects/{serialized_file_name}', 'wb') as f:\n",
    "    cloudpickle.dump(bin2df, f)\n",
    "\n",
    "print(f\"Module has been pickled and saved to {serialized_file_name} by value\")\n"
   ]
  }
 ],
 "metadata": {
  "kernelspec": {
   "display_name": "tdm23_env_1",
   "language": "python",
   "name": "python3"
  },
  "language_info": {
   "codemirror_mode": {
    "name": "ipython",
    "version": 3
   },
   "file_extension": ".py",
   "mimetype": "text/x-python",
   "name": "python",
   "nbconvert_exporter": "python",
   "pygments_lexer": "ipython3",
   "version": "3.8.12"
  }
 },
 "nbformat": 4,
 "nbformat_minor": 2
}
