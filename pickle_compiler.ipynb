{
 "cells": [
  {
   "cell_type": "markdown",
   "metadata": {},
   "source": [
    "# Capturing One Function from Class"
   ]
  },
  {
   "cell_type": "code",
   "execution_count": 1,
   "metadata": {},
   "outputs": [
    {
     "name": "stdout",
     "output_type": "stream",
     "text": [
      "Data has been pickled and saved to bin2df_convert.cdpkl\n"
     ]
    }
   ],
   "source": [
    "import cloudpickle\n",
    "import importlib.util\n",
    "import sys\n",
    "import os\n",
    "\n",
    "# Function to dynamically import a module\n",
    "def import_module_from_path(module_name, module_path):\n",
    "    spec = importlib.util.spec_from_file_location(module_name, module_path)\n",
    "    module = importlib.util.module_from_spec(spec)\n",
    "    sys.modules[module_name] = module\n",
    "    spec.loader.exec_module(module)\n",
    "    return module\n",
    "\n",
    "# Path to the directory containing bin2df module\n",
    "module_dir = r\"D:\\dev\\misc_tools_dev\\TransCAD_bin_to_df_converter\"\n",
    "if module_dir not in sys.path:\n",
    "    sys.path.append(module_dir)\n",
    "\n",
    "# Path to the bin2df module\n",
    "module_path = os.path.join(module_dir, 'bin2df.py')\n",
    "\n",
    "# Import the bin2df module dynamically\n",
    "bin2df = import_module_from_path(\"bin2df\", module_path)\n",
    "\n",
    "# Cloudpickle file name\n",
    "serialized_file_name = 'bin2df_convert.cdpkl'\n",
    "\n",
    "# Define the data you want to save\n",
    "data = {\n",
    "    'converter_function': bin2df.convert,\n",
    "}\n",
    "\n",
    "# Create the directory for pickled notebooks if it doesn't exist\n",
    "os.makedirs('./cloudpickle_objects', exist_ok=True)\n",
    "\n",
    "# Save the data to a .pkl file using cloudpickle\n",
    "with open(f'./cloudpickle_objects/{serialized_file_name}', 'wb') as f:\n",
    "    cloudpickle.dump(data, f)\n",
    "\n",
    "print(f\"Data has been pickled and saved to {serialized_file_name}\")\n"
   ]
  },
  {
   "cell_type": "markdown",
   "metadata": {},
   "source": [
    "# Capturing Entire Module"
   ]
  },
  {
   "cell_type": "code",
   "execution_count": 1,
   "metadata": {},
   "outputs": [
    {
     "name": "stdout",
     "output_type": "stream",
     "text": [
      "Module has been pickled and saved to bin2df_module.cdpkl\n"
     ]
    }
   ],
   "source": [
    "import cloudpickle\n",
    "import importlib.util\n",
    "import sys\n",
    "import os\n",
    "\n",
    "# Function to dynamically import a module\n",
    "def import_module_from_path(module_name, module_path):\n",
    "    spec = importlib.util.spec_from_file_location(module_name, module_path)\n",
    "    module = importlib.util.module_from_spec(spec)\n",
    "    sys.modules[module_name] = module\n",
    "    spec.loader.exec_module(module)\n",
    "    return module\n",
    "\n",
    "# Path to the directory containing bin2df module\n",
    "module_dir = r\"D:\\dev\\misc_tools_dev\\TransCAD_bin_to_df_converter\"\n",
    "if module_dir not in sys.path:\n",
    "    sys.path.append(module_dir)\n",
    "\n",
    "# Path to the bin2df module\n",
    "module_path = os.path.join(module_dir, 'bin2df.py')\n",
    "\n",
    "# Import the bin2df module dynamically\n",
    "bin2df = import_module_from_path(\"bin2df\", module_path)\n",
    "\n",
    "# Cloudpickle file name\n",
    "serialized_file_name = 'bin2df_module.cdpkl'\n",
    "\n",
    "# Create the directory for pickled notebooks if it doesn't exist\n",
    "os.makedirs('./cloudpickle_objects', exist_ok=True)\n",
    "\n",
    "# Save the entire module to a .pkl file using cloudpickle\n",
    "with open(f'./cloudpickle_objects/{serialized_file_name}', 'wb') as f:\n",
    "    cloudpickle.dump(bin2df, f)\n",
    "\n",
    "print(f\"Module has been pickled and saved to {serialized_file_name}\")\n"
   ]
  }
 ],
 "metadata": {
  "kernelspec": {
   "display_name": "tdm23_env_1",
   "language": "python",
   "name": "python3"
  },
  "language_info": {
   "codemirror_mode": {
    "name": "ipython",
    "version": 3
   },
   "file_extension": ".py",
   "mimetype": "text/x-python",
   "name": "python",
   "nbconvert_exporter": "python",
   "pygments_lexer": "ipython3",
   "version": "3.8.12"
  }
 },
 "nbformat": 4,
 "nbformat_minor": 2
}
